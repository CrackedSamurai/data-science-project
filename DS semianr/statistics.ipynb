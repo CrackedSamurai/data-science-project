{
 "cells": [
  {
   "cell_type": "markdown",
   "metadata": {},
   "source": [
    "# Statistics"
   ]
  },
  {
   "cell_type": "markdown",
   "metadata": {},
   "source": [
    "Simulated data (from geometric distribution with p=0.12, added 1 - minimum 1 friend)"
   ]
  },
  {
   "cell_type": "code",
   "execution_count": 1,
   "metadata": {},
   "outputs": [],
   "source": [
    "num_friends = [17, 15,  1, 13,  2,  6, 17,  4,  1,  7,  2,  1,  3,  1,  6,  1,  5, 19,  7,  2,  4,  5,  8,  2,  2, 32, 16, 10, \n",
    "               3,  4,  1,  2,  1, 10,  3, 9, 17,  2, 19,  2,  8,  2,  2,  1,  3,  1,  8, 24,  4,  6,  3,  7,  1,  6,  3,  3, \n",
    "               13, 26, 11,  2,  3, 13,  2,  1,  2, 17,  4, 16,  1, 10, 4,  2, 17,  2,  4, 10, 11,  2,  7,  9,  6,  4,  1, 19, \n",
    "               14, 40, 15,  1,  4,  2, 10,  8, 17, 32, 12, 28,  3,  2,  7, 24,  4, 22,  4,  1,  4, 4, 29, 17, 14,  4,  4,  4, \n",
    "               14, 11,  8, 10, 10, 14, 38,  9, 11,  2,  8, 13, 12,  9,  5, 11,  7,  6,  4,  8,  5,  5,  2,  3,  5,  6,  9, 21,\n",
    "               1,  3,  2,  2,  3,  1, 16,  8, 14,  6,  9,  5, 14,  4,  2,  3,  1, 14,  4,  4,  4, 17,  1,  1,  4,  1,  4,  5,  \n",
    "               6,  6,  2,  1, 13,  6,  2, 9,  8,  9,  4,  3,  6,  7, 21,  4,  2,  1,  3, 47,  5,  4,  8,  9, 100,  4,  6, 18,  \n",
    "               4, 16,  8, 35,  3,  4,  3,  9]"
   ]
  },
  {
   "cell_type": "markdown",
   "metadata": {},
   "source": [
    "Minutes per day (simulated as num_friends + 20 + rounded runif(-20,20))"
   ]
  },
  {
   "cell_type": "code",
   "execution_count": 4,
   "metadata": {},
   "outputs": [],
   "source": [
    "daily_minutes = [18, 25, 41, 25, 15, 14, 24, 22, 35, 38,  8, 19, 40, 26, 30, 23,  6, 54, 24, 12, 16,  6, 37, 22, 40, 53, 35, \n",
    "                 46, 25, 20, 28,  4,  1, 24, 38, 43, 31, 15, 52, 31, 48, 27, 26, 28, 23, 28, 11, 45, 11, 30, 36, 21, 19, 29, \n",
    "                 13, 15, 47, 54, 41, 14, 20, 47, 29,  2, 22, 31, 34, 22, 32, 47, 30, 35, 28, 12, 10, 16, 20,  7, 42, 18, 21, \n",
    "                 12, 32, 27, 19, 42, 16, 10,  4,  5, 23, 39, 33, 39, 21, 59, 14, 41, 45, 46, 14, 44, 41,  8, 25, 10, 64, 47, \n",
    "                 36, 38, 32,  6, 35, 33, 32, 33, 13, 29, 44, 12, 43, 25, 19, 22, 48, 38, 28, 27,  7,  8, 39, 39, 28, 29,  4, \n",
    "                 25, 40, 45, 41, 59, 10,  6, 17, 41,  8, 33, 16, 26, 42, 28, 34, 40, 32, 29, 27, 39, 19, 52, 36, 19, 35, 18, \n",
    "                 27,  6, 42, 28, 14, 17, 20, 32,  5, 13, 42, 10, 23, 33, 38, 44, 21, 14, 19, 32, 48,  5, 32, 35,  2, 70, 30, \n",
    "                 42, 29, 15,  0, 41, 27, 48, 34, 31, 11, 66, 30, 24, 20, 42]"
   ]
  },
  {
   "cell_type": "code",
   "execution_count": 6,
   "metadata": {},
   "outputs": [],
   "source": [
    "from collections import Counter, OrderedDict\n",
    "import matplotlib.pyplot as plt"
   ]
  },
  {
   "cell_type": "code",
   "execution_count": 8,
   "metadata": {},
   "outputs": [
    {
     "data": {
      "text/plain": [
       "Counter({4: 29,\n",
       "         2: 26,\n",
       "         1: 23,\n",
       "         3: 17,\n",
       "         6: 13,\n",
       "         8: 11,\n",
       "         9: 10,\n",
       "         5: 9,\n",
       "         17: 8,\n",
       "         7: 7,\n",
       "         10: 7,\n",
       "         14: 7,\n",
       "         13: 5,\n",
       "         11: 5,\n",
       "         16: 4,\n",
       "         19: 3,\n",
       "         15: 2,\n",
       "         32: 2,\n",
       "         24: 2,\n",
       "         12: 2,\n",
       "         21: 2,\n",
       "         26: 1,\n",
       "         40: 1,\n",
       "         28: 1,\n",
       "         22: 1,\n",
       "         29: 1,\n",
       "         38: 1,\n",
       "         47: 1,\n",
       "         100: 1,\n",
       "         18: 1,\n",
       "         35: 1})"
      ]
     },
     "execution_count": 8,
     "metadata": {},
     "output_type": "execute_result"
    }
   ],
   "source": [
    "friend_counts = Counter(num_friends)\n",
    "friend_counts"
   ]
  },
  {
   "cell_type": "markdown",
   "metadata": {},
   "source": [
    "Histogram"
   ]
  },
  {
   "cell_type": "code",
   "execution_count": 13,
   "metadata": {},
   "outputs": [
    {
     "data": {
      "image/png": "[encoded data removed]",
      "text/plain": [
       "<Figure size 640x480 with 1 Axes>"
      ]
     },
     "metadata": {},
     "output_type": "display_data"
    }
   ],
   "source": [
    "xs = range(101) # largest value is 100\n",
    "ys = [friend_counts[x] for x in xs] # height is just # of friends\n",
    "plt.bar(xs, ys)\n",
    "plt.axis([0, 101, 0, 29])\n",
    "plt.title(\"Histogram of Friend Counts\")\n",
    "plt.xlabel(\"# of friends\")\n",
    "plt.ylabel(\"# of people\")\n",
    "plt.show()"
   ]
  },
  {
   "cell_type": "markdown",
   "metadata": {},
   "source": [
    "Some descriptive statistics"
   ]
  },
  {
   "cell_type": "code",
   "execution_count": 16,
   "metadata": {},
   "outputs": [
    {
     "data": {
      "text/plain": [
       "204"
      ]
     },
     "execution_count": 16,
     "metadata": {},
     "output_type": "execute_result"
    }
   ],
   "source": [
    "num_points = len(num_friends)\n",
    "num_points"
   ]
  },
  {
   "cell_type": "code",
   "execution_count": 18,
   "metadata": {},
   "outputs": [
    {
     "data": {
      "text/plain": [
       "100"
      ]
     },
     "execution_count": 18,
     "metadata": {},
     "output_type": "execute_result"
    }
   ],
   "source": [
    "largest_value = max(num_friends) # 100\n",
    "largest_value"
   ]
  },
  {
   "cell_type": "code",
   "execution_count": 20,
   "metadata": {},
   "outputs": [
    {
     "data": {
      "text/plain": [
       "1"
      ]
     },
     "execution_count": 20,
     "metadata": {},
     "output_type": "execute_result"
    }
   ],
   "source": [
    "smallest_value = min(num_friends) #1\n",
    "smallest_value"
   ]
  },
  {
   "cell_type": "code",
   "execution_count": 22,
   "metadata": {},
   "outputs": [
    {
     "data": {
      "text/plain": [
       "1"
      ]
     },
     "execution_count": 22,
     "metadata": {},
     "output_type": "execute_result"
    }
   ],
   "source": [
    "sorted_values = sorted(num_friends)\n",
    "smallest_value = sorted_values[0]\n",
    "smallest_value"
   ]
  },
  {
   "cell_type": "code",
   "execution_count": 24,
   "metadata": {},
   "outputs": [
    {
     "data": {
      "text/plain": [
       "1"
      ]
     },
     "execution_count": 24,
     "metadata": {},
     "output_type": "execute_result"
    }
   ],
   "source": [
    "second_smallest_value = sorted_values[1] #1\n",
    "second_smallest_value"
   ]
  },
  {
   "cell_type": "code",
   "execution_count": 26,
   "metadata": {},
   "outputs": [
    {
     "data": {
      "text/plain": [
       "47"
      ]
     },
     "execution_count": 26,
     "metadata": {},
     "output_type": "execute_result"
    }
   ],
   "source": [
    "second_largest_value = sorted_values[-2] # 47\n",
    "second_largest_value"
   ]
  },
  {
   "cell_type": "markdown",
   "metadata": {},
   "source": [
    "## Central tendencies"
   ]
  },
  {
   "cell_type": "markdown",
   "metadata": {},
   "source": [
    "Arithmetic mean"
   ]
  },
  {
   "cell_type": "code",
   "execution_count": 30,
   "metadata": {},
   "outputs": [
    {
     "data": {
      "text/plain": [
       "8.470588235294118"
      ]
     },
     "execution_count": 30,
     "metadata": {},
     "output_type": "execute_result"
    }
   ],
   "source": [
    "from typing import List # note capital L\n",
    "\n",
    "def mean(xs: List[float]) -> int: #with \"List\" we want to specify that we want xs to be list of floats\n",
    "    return sum(xs) / len(xs)\n",
    "\n",
    "mean(num_friends) #"
   ]
  },
  {
   "cell_type": "markdown",
   "metadata": {},
   "source": [
    "Median"
   ]
  },
  {
   "cell_type": "code",
   "execution_count": 33,
   "metadata": {},
   "outputs": [],
   "source": [
    "# The underscores indicate that these are \"private\" functions, as they're\n",
    "# intended to be called by our median function but not by other people\n",
    "# using our statistics library.\n",
    "\n",
    "def _median_odd(xs: List[float]) -> float:\n",
    "    \"\"\"If len(xs) is odd, the median is the middle element\"\"\"\n",
    "    return sorted(xs)[len(xs) // 2] #the floor division // rounds the result down to the nearest whole number\n",
    "\n",
    "def _median_even(xs: List[float]) -> float:\n",
    "    \"\"\"If len(xs) is even, it's the average of the middle two elements\"\"\"\n",
    "    sorted_xs = sorted(xs)\n",
    "    hi_midpoint = len(xs) // 2 # e.g. length 4 => hi_midpoint 2\n",
    "    return (sorted_xs[hi_midpoint - 1] + sorted_xs[hi_midpoint]) / 2\n",
    "\n",
    "def median(v: List[float]) -> float:\n",
    "    \"\"\"Finds the 'middle-most' value of v\"\"\"\n",
    "    return _median_even(v) if len(v) % 2 == 0 else _median_odd(v)"
   ]
  },
  {
   "cell_type": "markdown",
   "metadata": {},
   "source": [
    "Check that the previous function is doing what we expect (assert)"
   ]
  },
  {
   "cell_type": "code",
   "execution_count": 36,
   "metadata": {},
   "outputs": [],
   "source": [
    "assert median([1, 10, 2, 9, 5]) == 5"
   ]
  },
  {
   "cell_type": "code",
   "execution_count": 38,
   "metadata": {},
   "outputs": [
    {
     "ename": "AssertionError",
     "evalue": "",
     "output_type": "error",
     "traceback": [
      "\u001b[1;31m---------------------------------------------------------------------------\u001b[0m",
      "\u001b[1;31mAssertionError\u001b[0m                            Traceback (most recent call last)",
      "Cell \u001b[1;32mIn[38], line 1\u001b[0m\n\u001b[1;32m----> 1\u001b[0m \u001b[38;5;28;01massert\u001b[39;00m median([\u001b[38;5;241m1\u001b[39m, \u001b[38;5;241m10\u001b[39m, \u001b[38;5;241m2\u001b[39m, \u001b[38;5;241m9\u001b[39m, \u001b[38;5;241m5\u001b[39m]) \u001b[38;5;241m==\u001b[39m \u001b[38;5;241m6\u001b[39m\n",
      "\u001b[1;31mAssertionError\u001b[0m: "
     ]
    }
   ],
   "source": [
    "assert median([1, 10, 2, 9, 5]) == 6 #wrong"
   ]
  },
  {
   "cell_type": "code",
   "execution_count": 40,
   "metadata": {},
   "outputs": [],
   "source": [
    "assert median([1, 9, 2, 10]) == (2 + 9) / 2"
   ]
  },
  {
   "cell_type": "code",
   "execution_count": 42,
   "metadata": {},
   "outputs": [
    {
     "name": "stdout",
     "output_type": "stream",
     "text": [
      "5.0\n"
     ]
    }
   ],
   "source": [
    "print(median(num_friends)) # 5"
   ]
  },
  {
   "cell_type": "markdown",
   "metadata": {},
   "source": [
    "Quantiles"
   ]
  },
  {
   "cell_type": "code",
   "execution_count": 45,
   "metadata": {},
   "outputs": [],
   "source": [
    "def quantile(xs: List[float], p: float) -> float:\n",
    "    \"\"\"Returns the pth-percentile value in x\"\"\"\n",
    "    p_index = int(p * len(xs))\n",
    "    return sorted(xs)[p_index]"
   ]
  },
  {
   "cell_type": "code",
   "execution_count": 47,
   "metadata": {},
   "outputs": [
    {
     "name": "stdout",
     "output_type": "stream",
     "text": [
      "1\n",
      "3\n",
      "11\n",
      "17\n"
     ]
    }
   ],
   "source": [
    "print(quantile(num_friends, 0.10))\n",
    "print(quantile(num_friends, 0.25))\n",
    "print(quantile(num_friends, 0.75))\n",
    "print(quantile(num_friends, 0.90))"
   ]
  },
  {
   "cell_type": "markdown",
   "metadata": {},
   "source": [
    "Modus"
   ]
  },
  {
   "cell_type": "code",
   "execution_count": 50,
   "metadata": {},
   "outputs": [],
   "source": [
    "def mode(x: List[float]) -> List[float]:\n",
    "    \"\"\"Returns a list, since there might be more than one mode\"\"\"\n",
    "    counts = Counter(x)\n",
    "    max_count = max(counts.values())\n",
    "    return [x_i for x_i, count in counts.items()\n",
    "            if count == max_count]"
   ]
  },
  {
   "cell_type": "code",
   "execution_count": 52,
   "metadata": {},
   "outputs": [
    {
     "name": "stdout",
     "output_type": "stream",
     "text": [
      "[4]\n"
     ]
    }
   ],
   "source": [
    "print(mode(num_friends))"
   ]
  },
  {
   "cell_type": "code",
   "execution_count": 54,
   "metadata": {},
   "outputs": [],
   "source": [
    "assert set(mode(num_friends)) == {4}"
   ]
  },
  {
   "cell_type": "code",
   "execution_count": 56,
   "metadata": {
    "scrolled": true
   },
   "outputs": [
    {
     "ename": "AssertionError",
     "evalue": "",
     "output_type": "error",
     "traceback": [
      "\u001b[1;31m---------------------------------------------------------------------------\u001b[0m",
      "\u001b[1;31mAssertionError\u001b[0m                            Traceback (most recent call last)",
      "Cell \u001b[1;32mIn[56], line 1\u001b[0m\n\u001b[1;32m----> 1\u001b[0m \u001b[38;5;28;01massert\u001b[39;00m \u001b[38;5;28mset\u001b[39m(mode(num_friends)) \u001b[38;5;241m==\u001b[39m \u001b[38;5;241m4\u001b[39m\n",
      "\u001b[1;31mAssertionError\u001b[0m: "
     ]
    }
   ],
   "source": [
    "assert set(mode(num_friends)) == 4 #wrong!"
   ]
  },
  {
   "cell_type": "markdown",
   "metadata": {},
   "source": [
    "## Dispersion"
   ]
  },
  {
   "cell_type": "code",
   "execution_count": 59,
   "metadata": {},
   "outputs": [],
   "source": [
    "# \"range\" already means something in Python, so we'll use a different name\n",
    "def data_range(xs: List[float]) -> float:\n",
    "    return max(xs) - min(xs)"
   ]
  },
  {
   "cell_type": "code",
   "execution_count": 61,
   "metadata": {},
   "outputs": [
    {
     "data": {
      "text/plain": [
       "99"
      ]
     },
     "execution_count": 61,
     "metadata": {},
     "output_type": "execute_result"
    }
   ],
   "source": [
    "data_range(num_friends)"
   ]
  },
  {
   "cell_type": "markdown",
   "metadata": {},
   "source": [
    "Variance"
   ]
  },
  {
   "cell_type": "code",
   "execution_count": 64,
   "metadata": {},
   "outputs": [],
   "source": [
    "#preparations from linear algebra\n",
    "\n",
    "Vector = List[float]\n",
    "\n",
    "def dot(v: Vector, w: Vector) -> float: #inner product of two vectors\n",
    "    \"\"\"Computes v_1 * w_1 + ... + v_n * w_n\"\"\"\n",
    "    assert len(v) == len(w), \"vectors must be same length\"\n",
    "    return sum(v_i * w_i for v_i, w_i in zip(v, w))\n",
    "\n",
    "def sum_of_squares(v: Vector) -> float:\n",
    "    \"\"\"Returns v_1 * v_1 + ... + v_n * v_n\"\"\"\n",
    "    return dot(v, v)"
   ]
  },
  {
   "cell_type": "code",
   "execution_count": 66,
   "metadata": {},
   "outputs": [],
   "source": [
    "def de_mean(xs: List[float]) -> List[float]:\n",
    "    \"\"\"Translate xs by subtracting its mean (so the result has mean 0)\"\"\"\n",
    "    x_bar = mean(xs)\n",
    "    return [x - x_bar for x in xs]\n",
    "\n",
    "def variance(xs: List[float]) -> float:\n",
    "    \"\"\"Almost the average squared deviation from the mean\"\"\"\n",
    "    assert len(xs) >= 2, \"variance requires at least two elements\"\n",
    "    n = len(xs)\n",
    "    deviations = de_mean(xs)\n",
    "    return sum_of_squares(deviations) / (n - 1)"
   ]
  },
  {
   "cell_type": "code",
   "execution_count": 68,
   "metadata": {},
   "outputs": [
    {
     "data": {
      "text/plain": [
       "103.47203709069835"
      ]
     },
     "execution_count": 68,
     "metadata": {},
     "output_type": "execute_result"
    }
   ],
   "source": [
    "variance(num_friends)"
   ]
  },
  {
   "cell_type": "markdown",
   "metadata": {},
   "source": [
    "Standard deviation"
   ]
  },
  {
   "cell_type": "code",
   "execution_count": 71,
   "metadata": {},
   "outputs": [
    {
     "data": {
      "text/plain": [
       "10.172120579834784"
      ]
     },
     "execution_count": 71,
     "metadata": {},
     "output_type": "execute_result"
    }
   ],
   "source": [
    "import math\n",
    "\n",
    "def standard_deviation(xs: List[float]) -> float:\n",
    "    \"\"\"The standard deviation is the square root of the variance\"\"\"\n",
    "    return math.sqrt(variance(xs))\n",
    "\n",
    "standard_deviation(num_friends)"
   ]
  },
  {
   "cell_type": "markdown",
   "metadata": {},
   "source": [
    "Interquantile range"
   ]
  },
  {
   "cell_type": "code",
   "execution_count": 74,
   "metadata": {},
   "outputs": [
    {
     "data": {
      "text/plain": [
       "8"
      ]
     },
     "execution_count": 74,
     "metadata": {},
     "output_type": "execute_result"
    }
   ],
   "source": [
    "def interquartile_range(xs: List[float]) -> float:\n",
    "    \"\"\"Returns the difference between the 75%-ile and the 25%-ile\"\"\"\n",
    "    return quantile(xs, 0.75) - quantile(xs, 0.25)\n",
    " \n",
    "interquartile_range(num_friends)"
   ]
  },
  {
   "cell_type": "markdown",
   "metadata": {},
   "source": [
    "median absolute deviation"
   ]
  },
  {
   "cell_type": "code",
   "execution_count": 77,
   "metadata": {},
   "outputs": [
    {
     "data": {
      "text/plain": [
       "3.0"
      ]
     },
     "execution_count": 77,
     "metadata": {},
     "output_type": "execute_result"
    }
   ],
   "source": [
    "from scipy import stats\n",
    "\n",
    "stats.median_abs_deviation(num_friends)"
   ]
  },
  {
   "cell_type": "markdown",
   "metadata": {},
   "source": [
    "## Correlation"
   ]
  },
  {
   "cell_type": "code",
   "execution_count": 80,
   "metadata": {},
   "outputs": [],
   "source": [
    "def covariance(xs: List[float], ys: List[float]) -> float:\n",
    "    assert len(xs) == len(ys), \"xs and ys must have same number of elements\"\n",
    "    return dot(de_mean(xs), de_mean(ys)) / (len(xs) - 1)"
   ]
  },
  {
   "cell_type": "code",
   "execution_count": 82,
   "metadata": {},
   "outputs": [
    {
     "ename": "TypeError",
     "evalue": "unsupported operand type(s) for /: 'list' and 'int'",
     "output_type": "error",
     "traceback": [
      "\u001b[1;31m---------------------------------------------------------------------------\u001b[0m",
      "\u001b[1;31mTypeError\u001b[0m                                 Traceback (most recent call last)",
      "Cell \u001b[1;32mIn[82], line 1\u001b[0m\n\u001b[1;32m----> 1\u001b[0m daily_hours \u001b[38;5;241m=\u001b[39m daily_minutes \u001b[38;5;241m/\u001b[39m \u001b[38;5;241m60\u001b[39m\n",
      "\u001b[1;31mTypeError\u001b[0m: unsupported operand type(s) for /: 'list' and 'int'"
     ]
    }
   ],
   "source": [
    "daily_hours = daily_minutes / 60 #does not work (we're working with a list)"
   ]
  },
  {
   "cell_type": "code",
   "execution_count": 84,
   "metadata": {},
   "outputs": [
    {
     "name": "stdout",
     "output_type": "stream",
     "text": [
      "[0.3, 0.4166666666666667, 0.6833333333333333, 0.4166666666666667, 0.25, 0.23333333333333334, 0.4, 0.36666666666666664, 0.5833333333333334, 0.6333333333333333, 0.13333333333333333, 0.31666666666666665, 0.6666666666666666, 0.43333333333333335, 0.5, 0.38333333333333336, 0.1, 0.9, 0.4, 0.2, 0.26666666666666666, 0.1, 0.6166666666666667, 0.36666666666666664, 0.6666666666666666, 0.8833333333333333, 0.5833333333333334, 0.7666666666666667, 0.4166666666666667, 0.3333333333333333, 0.4666666666666667, 0.06666666666666667, 0.016666666666666666, 0.4, 0.6333333333333333, 0.7166666666666667, 0.5166666666666667, 0.25, 0.8666666666666667, 0.5166666666666667, 0.8, 0.45, 0.43333333333333335, 0.4666666666666667, 0.38333333333333336, 0.4666666666666667, 0.18333333333333332, 0.75, 0.18333333333333332, 0.5, 0.6, 0.35, 0.31666666666666665, 0.48333333333333334, 0.21666666666666667, 0.25, 0.7833333333333333, 0.9, 0.6833333333333333, 0.23333333333333334, 0.3333333333333333, 0.7833333333333333, 0.48333333333333334, 0.03333333333333333, 0.36666666666666664, 0.5166666666666667, 0.5666666666666667, 0.36666666666666664, 0.5333333333333333, 0.7833333333333333, 0.5, 0.5833333333333334, 0.4666666666666667, 0.2, 0.16666666666666666, 0.26666666666666666, 0.3333333333333333, 0.11666666666666667, 0.7, 0.3, 0.35, 0.2, 0.5333333333333333, 0.45, 0.31666666666666665, 0.7, 0.26666666666666666, 0.16666666666666666, 0.06666666666666667, 0.08333333333333333, 0.38333333333333336, 0.65, 0.55, 0.65, 0.35, 0.9833333333333333, 0.23333333333333334, 0.6833333333333333, 0.75, 0.7666666666666667, 0.23333333333333334, 0.7333333333333333, 0.6833333333333333, 0.13333333333333333, 0.4166666666666667, 0.16666666666666666, 1.0666666666666667, 0.7833333333333333, 0.6, 0.6333333333333333, 0.5333333333333333, 0.1, 0.5833333333333334, 0.55, 0.5333333333333333, 0.55, 0.21666666666666667, 0.48333333333333334, 0.7333333333333333, 0.2, 0.7166666666666667, 0.4166666666666667, 0.31666666666666665, 0.36666666666666664, 0.8, 0.6333333333333333, 0.4666666666666667, 0.45, 0.11666666666666667, 0.13333333333333333, 0.65, 0.65, 0.4666666666666667, 0.48333333333333334, 0.06666666666666667, 0.4166666666666667, 0.6666666666666666, 0.75, 0.6833333333333333, 0.9833333333333333, 0.16666666666666666, 0.1, 0.2833333333333333, 0.6833333333333333, 0.13333333333333333, 0.55, 0.26666666666666666, 0.43333333333333335, 0.7, 0.4666666666666667, 0.5666666666666667, 0.6666666666666666, 0.5333333333333333, 0.48333333333333334, 0.45, 0.65, 0.31666666666666665, 0.8666666666666667, 0.6, 0.31666666666666665, 0.5833333333333334, 0.3, 0.45, 0.1, 0.7, 0.4666666666666667, 0.23333333333333334, 0.2833333333333333, 0.3333333333333333, 0.5333333333333333, 0.08333333333333333, 0.21666666666666667, 0.7, 0.16666666666666666, 0.38333333333333336, 0.55, 0.6333333333333333, 0.7333333333333333, 0.35, 0.23333333333333334, 0.31666666666666665, 0.5333333333333333, 0.8, 0.08333333333333333, 0.5333333333333333, 0.5833333333333334, 0.03333333333333333, 1.1666666666666667, 0.5, 0.7, 0.48333333333333334, 0.25, 0.0, 0.6833333333333333, 0.45, 0.8, 0.5666666666666667, 0.5166666666666667, 0.18333333333333332, 1.1, 0.5, 0.4, 0.3333333333333333, 0.7]\n"
     ]
    }
   ],
   "source": [
    "daily_hours = [x / 60 for x in daily_minutes]\n",
    "print(daily_hours)"
   ]
  },
  {
   "cell_type": "code",
   "execution_count": 86,
   "metadata": {},
   "outputs": [
    {
     "name": "stdout",
     "output_type": "stream",
     "text": [
      "[0.3        0.41666667 0.68333333 0.41666667 0.25       0.23333333\n",
      " 0.4        0.36666667 0.58333333 0.63333333 0.13333333 0.31666667\n",
      " 0.66666667 0.43333333 0.5        0.38333333 0.1        0.9\n",
      " 0.4        0.2        0.26666667 0.1        0.61666667 0.36666667\n",
      " 0.66666667 0.88333333 0.58333333 0.76666667 0.41666667 0.33333333\n",
      " 0.46666667 0.06666667 0.01666667 0.4        0.63333333 0.71666667\n",
      " 0.51666667 0.25       0.86666667 0.51666667 0.8        0.45\n",
      " 0.43333333 0.46666667 0.38333333 0.46666667 0.18333333 0.75\n",
      " 0.18333333 0.5        0.6        0.35       0.31666667 0.48333333\n",
      " 0.21666667 0.25       0.78333333 0.9        0.68333333 0.23333333\n",
      " 0.33333333 0.78333333 0.48333333 0.03333333 0.36666667 0.51666667\n",
      " 0.56666667 0.36666667 0.53333333 0.78333333 0.5        0.58333333\n",
      " 0.46666667 0.2        0.16666667 0.26666667 0.33333333 0.11666667\n",
      " 0.7        0.3        0.35       0.2        0.53333333 0.45\n",
      " 0.31666667 0.7        0.26666667 0.16666667 0.06666667 0.08333333\n",
      " 0.38333333 0.65       0.55       0.65       0.35       0.98333333\n",
      " 0.23333333 0.68333333 0.75       0.76666667 0.23333333 0.73333333\n",
      " 0.68333333 0.13333333 0.41666667 0.16666667 1.06666667 0.78333333\n",
      " 0.6        0.63333333 0.53333333 0.1        0.58333333 0.55\n",
      " 0.53333333 0.55       0.21666667 0.48333333 0.73333333 0.2\n",
      " 0.71666667 0.41666667 0.31666667 0.36666667 0.8        0.63333333\n",
      " 0.46666667 0.45       0.11666667 0.13333333 0.65       0.65\n",
      " 0.46666667 0.48333333 0.06666667 0.41666667 0.66666667 0.75\n",
      " 0.68333333 0.98333333 0.16666667 0.1        0.28333333 0.68333333\n",
      " 0.13333333 0.55       0.26666667 0.43333333 0.7        0.46666667\n",
      " 0.56666667 0.66666667 0.53333333 0.48333333 0.45       0.65\n",
      " 0.31666667 0.86666667 0.6        0.31666667 0.58333333 0.3\n",
      " 0.45       0.1        0.7        0.46666667 0.23333333 0.28333333\n",
      " 0.33333333 0.53333333 0.08333333 0.21666667 0.7        0.16666667\n",
      " 0.38333333 0.55       0.63333333 0.73333333 0.35       0.23333333\n",
      " 0.31666667 0.53333333 0.8        0.08333333 0.53333333 0.58333333\n",
      " 0.03333333 1.16666667 0.5        0.7        0.48333333 0.25\n",
      " 0.         0.68333333 0.45       0.8        0.56666667 0.51666667\n",
      " 0.18333333 1.1        0.5        0.4        0.33333333 0.7       ]\n"
     ]
    }
   ],
   "source": [
    "import numpy\n",
    "daily_hours_vec = numpy.array(daily_minutes)/60 #not a list any more\n",
    "print(daily_hours_vec)"
   ]
  },
  {
   "cell_type": "markdown",
   "metadata": {},
   "source": [
    "Let's return back to computing covariance"
   ]
  },
  {
   "cell_type": "code",
   "execution_count": 89,
   "metadata": {},
   "outputs": [
    {
     "data": {
      "text/plain": [
       "48.084033613445385"
      ]
     },
     "execution_count": 89,
     "metadata": {},
     "output_type": "execute_result"
    }
   ],
   "source": [
    "covariance(num_friends, daily_minutes)"
   ]
  },
  {
   "cell_type": "code",
   "execution_count": 91,
   "metadata": {},
   "outputs": [
    {
     "data": {
      "text/plain": [
       "0.8014005602240897"
      ]
     },
     "execution_count": 91,
     "metadata": {},
     "output_type": "execute_result"
    }
   ],
   "source": [
    "covariance(num_friends, daily_hours)"
   ]
  },
  {
   "cell_type": "code",
   "execution_count": 93,
   "metadata": {},
   "outputs": [
    {
     "data": {
      "text/plain": [
       "60.00000000000001"
      ]
     },
     "execution_count": 93,
     "metadata": {},
     "output_type": "execute_result"
    }
   ],
   "source": [
    "covariance(num_friends, daily_minutes)/covariance(num_friends, daily_hours) #60"
   ]
  },
  {
   "cell_type": "code",
   "execution_count": 95,
   "metadata": {},
   "outputs": [],
   "source": [
    "def correlation(xs: List[float], ys: List[float]) -> float:\n",
    "    \"\"\"Measures how much xs and ys vary in tandem about their means\"\"\"\n",
    "    stdev_x = standard_deviation(xs)\n",
    "    stdev_y = standard_deviation(ys)\n",
    "    if stdev_x > 0 and stdev_y > 0:\n",
    "        return covariance(xs, ys) / stdev_x / stdev_y\n",
    "    else:\n",
    "        return 0 # if no variation, correlation is zero"
   ]
  },
  {
   "cell_type": "code",
   "execution_count": 97,
   "metadata": {},
   "outputs": [
    {
     "data": {
      "text/plain": [
       "0.33556392554641223"
      ]
     },
     "execution_count": 97,
     "metadata": {},
     "output_type": "execute_result"
    }
   ],
   "source": [
    "correlation(num_friends, daily_minutes)"
   ]
  },
  {
   "cell_type": "code",
   "execution_count": 99,
   "metadata": {},
   "outputs": [
    {
     "data": {
      "text/plain": [
       "0.33556392554641223"
      ]
     },
     "execution_count": 99,
     "metadata": {},
     "output_type": "execute_result"
    }
   ],
   "source": [
    "correlation(num_friends, daily_hours)"
   ]
  },
  {
   "cell_type": "code",
   "execution_count": 101,
   "metadata": {},
   "outputs": [
    {
     "data": {
      "image/png": "[encoded data removed]",
      "text/plain": [
       "<Figure size 640x480 with 1 Axes>"
      ]
     },
     "metadata": {},
     "output_type": "display_data"
    }
   ],
   "source": [
    "plt.scatter(num_friends, daily_minutes)\n",
    "plt.title(\"Correlation with an Outlier\")\n",
    "plt.xlabel(\"# of friends\")\n",
    "plt.ylabel(\"minutes per day\")\n",
    "plt.show()"
   ]
  },
  {
   "cell_type": "code",
   "execution_count": 103,
   "metadata": {},
   "outputs": [
    {
     "data": {
      "text/plain": [
       "192"
      ]
     },
     "execution_count": 103,
     "metadata": {},
     "output_type": "execute_result"
    }
   ],
   "source": [
    "num_friends.index(100)"
   ]
  },
  {
   "cell_type": "code",
   "execution_count": 105,
   "metadata": {},
   "outputs": [],
   "source": [
    "outlier = num_friends.index(100) # index of outlier\n",
    "num_friends_good = [x\n",
    "                    for i, x in enumerate(num_friends)\n",
    "                    if i != outlier]\n",
    "daily_minutes_good = [x\n",
    "                      for i, x in enumerate(daily_minutes)\n",
    "                      if i != outlier]\n",
    "daily_hours_good = [dm / 60 for dm in daily_minutes_good]"
   ]
  },
  {
   "cell_type": "code",
   "execution_count": 107,
   "metadata": {},
   "outputs": [
    {
     "name": "stdout",
     "output_type": "stream",
     "text": [
      "0.5522353046196972\n",
      "0.5522353046196973\n"
     ]
    }
   ],
   "source": [
    "print(correlation(num_friends_good, daily_minutes_good))\n",
    "print(correlation(num_friends_good, daily_hours_good))"
   ]
  },
  {
   "cell_type": "code",
   "execution_count": 109,
   "metadata": {},
   "outputs": [
    {
     "data": {
      "image/png": "[encoded data removed]",
      "text/plain": [
       "<Figure size 640x480 with 1 Axes>"
      ]
     },
     "metadata": {},
     "output_type": "display_data"
    }
   ],
   "source": [
    "plt.scatter(num_friends_good, daily_minutes_good)\n",
    "plt.title(\"Correlation After Removing the Outlier\")\n",
    "plt.xlabel(\"# of friends\")\n",
    "plt.ylabel(\"minutes per day\")\n",
    "plt.show()"
   ]
  },
  {
   "cell_type": "code",
   "execution_count": null,
   "metadata": {},
   "outputs": [],
   "source": []
  }
 ],
 "metadata": {
  "kernelspec": {
   "display_name": "Python 3 (ipykernel)",
   "language": "python",
   "name": "python3"
  },
  "language_info": {
   "codemirror_mode": {
    "name": "ipython",
    "version": 3
   },
   "file_extension": ".py",
   "mimetype": "text/x-python",
   "name": "python",
   "nbconvert_exporter": "python",
   "pygments_lexer": "ipython3",
   "version": "3.12.4"
  }
 },
 "nbformat": 4,
 "nbformat_minor": 4
}
